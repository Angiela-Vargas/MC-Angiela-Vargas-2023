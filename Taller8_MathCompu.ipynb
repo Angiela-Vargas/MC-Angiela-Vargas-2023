{
  "nbformat": 4,
  "nbformat_minor": 0,
  "metadata": {
    "colab": {
      "provenance": []
    },
    "kernelspec": {
      "name": "python3",
      "display_name": "Python 3"
    },
    "language_info": {
      "name": "python"
    }
  },
  "cells": [
    {
      "cell_type": "markdown",
      "source": [
        "\n",
        "**1. Convierta a base 16 los siguientes números:**\n",
        "\n",
        "\n",
        "\n",
        "\n"
      ],
      "metadata": {
        "id": "jDmZwUJZxoLW"
      }
    },
    {
      "cell_type": "code",
      "source": [
        "numa = 611\n",
        "numb = 48\n",
        "numc = 5000\n",
        "numd = 6199\n",
        "\n",
        "num = [numa,numb,numc,numd]\n",
        "\n",
        "def decimal_a_hexadecimal(decimal):\n",
        "    hex = \"0123456789ABCDEF\"\n",
        "    if decimal == 0:\n",
        "        return \"0\"\n",
        "    hexadecimal = \"\"\n",
        "    while decimal > 0:\n",
        "        residuo = decimal % 16\n",
        "        hexadecimal = hex[residuo] + hexadecimal\n",
        "        decimal = decimal // 16\n",
        "    return hexadecimal\n",
        "\n",
        "for i in num:\n",
        "  num_hexadecimal = decimal_a_hexadecimal(i)\n",
        "  print(f\"El número decimal equivalente a \",i,\" octal es: \",num_hexadecimal)"
      ],
      "metadata": {
        "colab": {
          "base_uri": "https://localhost:8080/"
        },
        "id": "3i0qhDD04kYL",
        "outputId": "58825c84-9618-41d5-f318-18715de214c6"
      },
      "execution_count": 2,
      "outputs": [
        {
          "output_type": "stream",
          "name": "stdout",
          "text": [
            "El número decimal equivalente a  611  octal es:  263\n",
            "El número decimal equivalente a  48  octal es:  30\n",
            "El número decimal equivalente a  5000  octal es:  1388\n",
            "El número decimal equivalente a  6199  octal es:  1837\n"
          ]
        }
      ]
    },
    {
      "cell_type": "markdown",
      "source": [
        "**2. Convierta a base 10 los siguientes números en base 8:**"
      ],
      "metadata": {
        "id": "ortPU2TDxwYG"
      }
    },
    {
      "cell_type": "code",
      "source": [
        "numa = \"500\"\n",
        "numb = \"485\"\n",
        "numc = \"5445\"\n",
        "numd = \"277\"\n",
        "\n",
        "num = [numa,numb,numc,numd]\n",
        "\n",
        "def comprobar(num):\n",
        "  octal = \"01234567\"\n",
        "  cont = 0\n",
        "  for caracter in num:\n",
        "    cont= 0\n",
        "    for car_octal in octal:\n",
        "      if caracter != car_octal:\n",
        "        cont = cont + 1\n",
        "      if cont == 8 :\n",
        "        return \"0\"\n",
        "  return num\n",
        "\n",
        "for i in num:\n",
        "  num_decimal = int(comprobar(i), 8)\n",
        "  if num_decimal == 0:\n",
        "    print(f\"El número \",i,\" no es un número octal\")\n",
        "  else:\n",
        "    print(f\"El número decimal equivalente a \",i,\" octal es: \",num_decimal)"
      ],
      "metadata": {
        "id": "ej8VPYCYyGHE",
        "colab": {
          "base_uri": "https://localhost:8080/"
        },
        "outputId": "ec92f36f-c98a-40c3-c6e6-adbfd37c1cc9"
      },
      "execution_count": 3,
      "outputs": [
        {
          "output_type": "stream",
          "name": "stdout",
          "text": [
            "El número decimal equivalente a  500  octal es:  320\n",
            "El número  485  no es un número octal\n",
            "El número decimal equivalente a  5445  octal es:  2853\n",
            "El número decimal equivalente a  277  octal es:  191\n"
          ]
        }
      ]
    },
    {
      "cell_type": "markdown",
      "source": [
        "**3. Realizar las siguientes operaciones utilizando una noteación de punto flotante en base 10 con un dígito para el sino del número, 4 dígitos para el exponente con signo y 7 dígitos para el valor absoluto del número:**\n"
      ],
      "metadata": {
        "id": "sg5VBf93x13F"
      }
    },
    {
      "cell_type": "markdown",
      "source": [
        "a) 75.202,53 + 0,009997 b) 533,075 - 38.611,007 c) 0,38654 * 0,00012097 d) 37,86093 / 0,000103862\n",
        "\n",
        "\n",
        "---\n",
        "\n",
        "\n",
        "\n",
        "Las operaciones se hacen con 4 cifras significativas y se acomoda al exponente mayor.\n",
        "\n",
        "Suma:\n",
        "\n",
        "(0,7520 * 10^5) + (0,00000009997 * 10^5) = 0,7520001 * 10^5 = 0,7520 * 10^5\n",
        "\n",
        "Resta:\n",
        "\n",
        "(0,005331 * 10^5) - (0,3861 * 10^5) = -0,380769 * 10^5 = -0,3808 * 10^5\n",
        "\n",
        "Multiplicación:\n",
        "\n",
        "(0,3865 * 10^0) * (0,0001210 * 10^0) = 0,0000467665 * 10^0 = 0,4677 * 10^4\n",
        "\n",
        "División:\n",
        "\n",
        "(0,3786 * 10^2) / (0,1039 * 10^-3) = 3,643888354 * 10^5 = 0,3644 * 10^6\n"
      ],
      "metadata": {
        "id": "qmQ0Sj85ge3V"
      }
    }
  ]
}