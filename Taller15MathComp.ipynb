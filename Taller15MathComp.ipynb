{
  "nbformat": 4,
  "nbformat_minor": 0,
  "metadata": {
    "colab": {
      "provenance": []
    },
    "kernelspec": {
      "name": "python3",
      "display_name": "Python 3"
    },
    "language_info": {
      "name": "python"
    }
  },
  "cells": [
    {
      "cell_type": "markdown",
      "source": [
        "**Cree un programa que, por medio de la eliminación de Gauss-Jordan, halle la inversa de las siguientes matrices:**\n",
        "\n",
        "A= ( (3,2,2), (3,1,-3), (1,0,-2) )\n",
        "\n",
        "B= ( (1,2,0,4), (2,0,-1,-2), (1,1,-1,0), (0,4,1,0) )"
      ],
      "metadata": {
        "id": "Agy7u6_RprjN"
      }
    },
    {
      "cell_type": "code",
      "execution_count": null,
      "metadata": {
        "id": "k2CXMUuYplyy",
        "colab": {
          "base_uri": "https://localhost:8080/"
        },
        "outputId": "16b964d0-44da-4d0a-d209-d749ef2349f7"
      },
      "outputs": [
        {
          "output_type": "stream",
          "name": "stdout",
          "text": [
            "Matriz  A \n",
            " [[ 3  2  2]\n",
            " [ 3  1 -3]\n",
            " [ 1  0 -2]] \n",
            " \n",
            "Identidad\n",
            " [[1. 0. 0.]\n",
            " [0. 1. 0.]\n",
            " [0. 0. 1.]] \n",
            "\n",
            "Aumento\n",
            " [[ 3.  2.  2.  1.  0.  0.]\n",
            " [ 3.  1. -3.  0.  1.  0.]\n",
            " [ 1.  0. -2.  0.  0.  1.]] \n",
            "\n",
            "Matriz  B \n",
            " [[ 1  2  0  4]\n",
            " [ 2  0 -1 -2]\n",
            " [ 1  1 -1  0]\n",
            " [ 0  4  1  0]] \n",
            " \n",
            "Identidad\n",
            " [[1. 0. 0. 0.]\n",
            " [0. 1. 0. 0.]\n",
            " [0. 0. 1. 0.]\n",
            " [0. 0. 0. 1.]] \n",
            "\n",
            "Aumento\n",
            " [[ 1.  2.  0.  4.  1.  0.  0.  0.]\n",
            " [ 2.  0. -1. -2.  0.  1.  0.  0.]\n",
            " [ 1.  1. -1.  0.  0.  0.  1.  0.]\n",
            " [ 0.  4.  1.  0.  0.  0.  0.  1.]] \n",
            "\n",
            "Inversa de A:\n",
            "[[ 1.  -2.   4. ]\n",
            " [-1.5  4.  -7.5]\n",
            " [ 0.5 -1.   1.5]]\n",
            "\n",
            "Inversa de B:\n",
            "[[ 0.33333333  0.66666667 -0.66666667  0.        ]\n",
            " [-0.06666667 -0.13333333  0.33333333  0.2       ]\n",
            " [ 0.26666667  0.53333333 -1.33333333  0.2       ]\n",
            " [ 0.2        -0.1        -0.         -0.1       ]]\n"
          ]
        }
      ],
      "source": [
        "import numpy as np\n",
        "\n",
        "def inversa(matriz, etiqueta):\n",
        "    n = len(matriz)\n",
        "    identidad = np.identity(n)\n",
        "    print(\"Matriz \",etiqueta,'\\n',matriz,'\\n','\\n'\"Identidad\"'\\n',identidad,'\\n')\n",
        "\n",
        "    matriz_aumentada = np.concatenate((matriz, identidad), axis=1)\n",
        "    print(\"Aumento\"'\\n',matriz_aumentada,'\\n')\n",
        "\n",
        "    for fila_pivote in range(n):\n",
        "        divisor = matriz_aumentada[fila_pivote, fila_pivote]\n",
        "        matriz_aumentada[fila_pivote] /= divisor\n",
        "\n",
        "        for fila_actual in range(n):\n",
        "            if fila_actual != fila_pivote:\n",
        "                factor = matriz_aumentada[fila_actual, fila_pivote]\n",
        "                matriz_aumentada[fila_actual] -= factor * matriz_aumentada[fila_pivote]\n",
        "\n",
        "    inversa = matriz_aumentada[:, n:]\n",
        "\n",
        "    return inversa\n",
        "\n",
        "Matriz_A = np.array([[3, 2, 2], [3, 1, -3], [1, 0, -2]])\n",
        "\n",
        "Matriz_B = np.array([[1, 2, 0, 4], [2, 0, -1, -2], [1, 1, -1, 0], [0, 4, 1, 0]])\n",
        "\n",
        "inversa_A = inversa(Matriz_A, \"A\")\n",
        "inversa_B = inversa(Matriz_B, \"B\")\n",
        "\n",
        "print(\"Inversa de A:\")\n",
        "print(inversa_A)\n",
        "print(\"\\nInversa de B:\")\n",
        "print(inversa_B)\n"
      ]
    }
  ]
}