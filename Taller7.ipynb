{
  "nbformat": 4,
  "nbformat_minor": 0,
  "metadata": {
    "colab": {
      "provenance": []
    },
    "kernelspec": {
      "name": "python3",
      "display_name": "Python 3"
    },
    "language_info": {
      "name": "python"
    }
  },
  "cells": [
    {
      "cell_type": "code",
      "execution_count": 15,
      "metadata": {
        "colab": {
          "base_uri": "https://localhost:8080/"
        },
        "id": "8ctXK0ehrzFz",
        "outputId": "88f822d1-1ea6-4c6b-97b3-5ced7d2e47b2"
      },
      "outputs": [
        {
          "output_type": "stream",
          "name": "stdout",
          "text": [
            "Para el primer caso e^(-0.75)\n",
            "\n",
            "0\t1.0\t100.0\t0\t1\t\n",
            "1.0\t0.25\t66.66666666666666\t1\t2\t\n",
            "0.25\t0.53125\t52.94117647058824\t2\t3\t\n",
            "0.53125\t0.4609375\t38.54166666666667\t3\t4\t\n",
            "0.4609375\t0.47412109375\t2.780638516992791\t4\t5\t\n",
            "0.47412109375\t0.4721435546875\t37.047526041666664\t5\t6\t\n",
            "0.4721435546875\t0.47239074707031253\t0.05232794764621374\t6\t7\t\n",
            "0.47239074707031253\t0.47236426217215405\t37.01809837704613\t7\t8\t\n",
            "0.47236426217215405\t0.4723667451313564\t0.0005256422531742924\t8\t9\t\n",
            "0.4723667451313564\t0.47236653821808955\t37.01779490425473\t9\t10\t\n",
            "0.47236653821808955\t0.47236655373658454\t3.2852654080364453e-06\t10\t11\t\n",
            "0.47236655373658454\t0.47236655267850536\t37.01779297619929\t11\t12\t\n",
            "0.47236655267850536\t0.4723665527446353\t1.3999707319918283e-08\t12\t13\t\n",
            "\n",
            "Resultado\n",
            "\n",
            "El valor estimado es  0.47236656674434263 \n",
            "El error aproximado relativo porcentual es  1.3999707319918283e-08 \n",
            "El número de iteraciones realizadas fueron  14 \n",
            "\n"
          ]
        }
      ],
      "source": [
        "import math\n",
        "\n",
        "es = (0.5 * 10**-8) * 100\n",
        "ea = 100\n",
        "value = 0.75\n",
        "cont_i = 1\n",
        "potencia = 0\n",
        "num = 0\n",
        "\n",
        "print(\"Para el primer caso e^(-0.75)\"'\\n')\n",
        "\n",
        "while ea > es:\n",
        "\n",
        "  if cont_i%2 == 0:\n",
        "\n",
        "    aux = num\n",
        "    num = num - ((value**(potencia))/math.factorial(potencia))\n",
        "    ea = abs(((value-num)/value)*100)\n",
        "    list=[aux, num, ea, potencia, cont_i]\n",
        "    for i in list:\n",
        "      print(i, end='\\t')\n",
        "    print()\n",
        "\n",
        "  else:\n",
        "\n",
        "    aux = num\n",
        "    num = num + ((value**(potencia))/math.factorial(potencia))\n",
        "    ea = abs(((num-aux)/num)*100)\n",
        "    list=[aux, num, ea, potencia, cont_i]\n",
        "    for i in list:\n",
        "      print(i, end='\\t')\n",
        "    print()\n",
        "\n",
        "  cont_i += 1\n",
        "  potencia += 1\n",
        "  v = num + ea\n",
        "\n",
        "print('\\n'\"Resultado\"'\\n''\\n'\"El valor estimado es \",v,'\\n'\"El error aproximado relativo porcentual es \",ea,'\\n'\"El número de iteraciones realizadas fueron \",cont_i,'\\n'\"\")"
      ]
    },
    {
      "cell_type": "code",
      "source": [
        "es = (0.5 * 10**-8) * 100\n",
        "ea = 100\n",
        "value = 0.75\n",
        "cont_i = 1\n",
        "potencia = 0\n",
        "num = 0\n",
        "\n",
        "print(\"Para el segundo caso 1/e^(0.75)\"'\\n')\n",
        "\n",
        "while ea > es:\n",
        "    a = aux\n",
        "    num = num + ((value**(potencia))/math.factorial(potencia))\n",
        "    aux = num**-1\n",
        "    ea = abs(((aux-a)/aux)*100)\n",
        "    list=[aux, num, ea, potencia, cont_i]\n",
        "    for i in list:\n",
        "      print(i, end='\\t')\n",
        "    print()\n",
        "\n",
        "    cont_i += 1\n",
        "    potencia += 1\n",
        "    v = aux + ea\n",
        "\n",
        "print('\\n'\"Resultado\"'\\n''\\n'\"El valor estimado es \",v,'\\n'\"El error aproximado relativo porcentual es \",ea,'\\n'\"El número de iteraciones realizadas fueron \",cont_i,'\\n'\"\")"
      ],
      "metadata": {
        "colab": {
          "base_uri": "https://localhost:8080/"
        },
        "id": "nNYEwObuKWCv",
        "outputId": "327d8bc2-0dc7-4d94-cbca-0b4340fc9935"
      },
      "execution_count": 16,
      "outputs": [
        {
          "output_type": "stream",
          "name": "stdout",
          "text": [
            "Para el segundo caso 1/e^(0.75)\n",
            "\n",
            "1.0\t1.0\t52.76334473214946\t0\t1\t\n",
            "0.5714285714285714\t1.75\t75.00000000000001\t1\t2\t\n",
            "0.49230769230769234\t2.03125\t16.07142857142856\t2\t3\t\n",
            "0.4758364312267658\t2.1015625\t3.4615384615384723\t3\t4\t\n",
            "0.47287000692680675\t2.11474609375\t0.6273234200743426\t4\t5\t\n",
            "0.47242823035489784\t2.1167236328125\t0.0935118910182489\t5\t6\t\n",
            "0.47237306631646164\t2.1169708251953128\t0.01167806599693779\t6\t7\t\n",
            "0.47236715664785006\t2.1169973100934714\t0.0012510752554261123\t7\t8\t\n",
            "0.4723666026239988\t2.1169997930526736\t0.00011728683784218746\t8\t9\t\n",
            "0.4723665564554032\t2.1169999999659406\t9.773891691165341e-06\t9\t10\t\n",
            "0.47236655299275887\t2.1170000154844355\t7.330418117006391e-07\t10\t11\t\n",
            "0.47236655275666944\t2.117000016542515\t4.9980131829638147e-08\t11\t12\t\n",
            "\n",
            "Resultado\n",
            "\n",
            "El valor estimado es  0.47236660273680126 \n",
            "El error aproximado relativo porcentual es  4.9980131829638147e-08 \n",
            "El número de iteraciones realizadas fueron  13 \n",
            "\n"
          ]
        }
      ]
    }
  ]
}