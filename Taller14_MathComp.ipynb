{
  "nbformat": 4,
  "nbformat_minor": 0,
  "metadata": {
    "colab": {
      "provenance": []
    },
    "kernelspec": {
      "name": "python3",
      "display_name": "Python 3"
    },
    "language_info": {
      "name": "python"
    }
  },
  "cells": [
    {
      "cell_type": "markdown",
      "source": [
        "**Cree un programa que implemente la eliminación de Gauss-Jordan para resolver el siguiente sistema de ecuaciones:**\n",
        "\n",
        "\n",
        "\n",
        "1.   X1 + X2 = 5\n",
        "2.   3X1 + 3X2 + 4X3 = 23\n",
        "3.   4X1 + X3 = 30"
      ],
      "metadata": {
        "id": "PVTwi2Nnx-nb"
      }
    },
    {
      "cell_type": "code",
      "execution_count": 12,
      "metadata": {
        "colab": {
          "base_uri": "https://localhost:8080/"
        },
        "id": "kPJnRqgDxzb4",
        "outputId": "2ca6d25a-e7b0-4817-a088-f4753b8a1f0f"
      },
      "outputs": [
        {
          "output_type": "stream",
          "name": "stdout",
          "text": [
            "Matriz inicial 1\n",
            "1 1 0 | 5\n",
            "3 6 4 | 23\n",
            "4 1 1 | 30\n",
            "\n",
            "División 1\n",
            "1.0 1.0 0.0 | 5.0\n",
            "3 6 4 | 23\n",
            "4 1 1 | 30\n",
            "\n",
            "Reducción 1\n",
            "1.0 1.0 0.0 | 5.0\n",
            "0.0 3.0 4.0 | 8.0\n",
            "0.0 -3.0 1.0 | 10.0\n",
            "\n",
            "División 3.0\n",
            "1.0 1.0 0.0 | 5.0\n",
            "0.0 1.0 1.3333333333333333 | 2.6666666666666665\n",
            "0.0 -3.0 1.0 | 10.0\n",
            "\n",
            "Reducción 3.0\n",
            "1.0 0.0 -1.3333333333333333 | 2.3333333333333335\n",
            "0.0 1.0 1.3333333333333333 | 2.6666666666666665\n",
            "0.0 0.0 5.0 | 18.0\n",
            "\n",
            "División 5.0\n",
            "1.0 0.0 -1.3333333333333333 | 2.3333333333333335\n",
            "0.0 1.0 1.3333333333333333 | 2.6666666666666665\n",
            "0.0 0.0 1.0 | 3.6\n",
            "\n",
            "Reducción 5.0\n",
            "1.0 0.0 0.0 | 7.133333333333333\n",
            "0.0 1.0 0.0 | -2.1333333333333333\n",
            "0.0 0.0 1.0 | 3.6\n",
            "\n",
            "Resultados:\n",
            "x1 = 7.133333333333333\n",
            "x2 = -2.1333333333333333\n",
            "x3 = 3.6\n"
          ]
        }
      ],
      "source": [
        "import copy\n",
        "\n",
        "def imprimir_sistema(a, b, etiqueta,pivote):\n",
        "    n = len(b)\n",
        "    print(etiqueta,pivote)\n",
        "\n",
        "    for i in range(n):\n",
        "        for j in range(n):\n",
        "            print(a[i][j], end = \" \")\n",
        "        print(\"|\", b[i])\n",
        "    print()\n",
        "\n",
        "def gauss_Jordan(ao, bo):\n",
        "    a = copy.deepcopy(ao)\n",
        "    b = copy.copy(bo)\n",
        "    n = len(b)\n",
        "    imprimir_sistema(a, b, \"Matriz inicial\",1)\n",
        "\n",
        "    for i in range(n):\n",
        "        pivote = a[i][i]\n",
        "        for j in range(n):\n",
        "          a[i][j] /= pivote\n",
        "        b[i] /= pivote\n",
        "        imprimir_sistema(a, b, \"División\",pivote)\n",
        "\n",
        "        for k in range(n):\n",
        "          if i != k:\n",
        "            valor_aux = -a[k][i]\n",
        "            for j in range(n):\n",
        "              a[k][j] += a[i][j] * valor_aux\n",
        "            b[k] += b[i] * valor_aux\n",
        "        imprimir_sistema(a, b, \"Reducción\",pivote)\n",
        "\n",
        "    return b\n",
        "    return pivote\n",
        "\n",
        "a = [[1, 1, 0], [3, 6, 4], [4, 1, 1]]\n",
        "b = [5, 23, 30]\n",
        "x = gauss_Jordan(a, b)\n",
        "\n",
        "print(\"Resultados:\")\n",
        "for i in range(len(x)):\n",
        "    print(\"x\" + str(i+1), \"=\", x[i])"
      ]
    }
  ]
}