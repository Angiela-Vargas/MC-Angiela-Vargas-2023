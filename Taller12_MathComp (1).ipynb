{
  "nbformat": 4,
  "nbformat_minor": 0,
  "metadata": {
    "colab": {
      "provenance": []
    },
    "kernelspec": {
      "name": "python3",
      "display_name": "Python 3"
    },
    "language_info": {
      "name": "python"
    }
  },
  "cells": [
    {
      "cell_type": "markdown",
      "source": [
        "Cree un programa que estime mediante la serie de Taylor desde orden cero (0) hasta orden 15 el valor de la función.\n",
        "\n",
        "f(x) = e^(-x)\n",
        "\n",
        "en x = 0,505 tomando como base x = 0,5. Calcule para cada estimación el error aproximado relativo porcentual."
      ],
      "metadata": {
        "id": "hnMK-XrbNt3b"
      }
    },
    {
      "cell_type": "code",
      "execution_count": 106,
      "metadata": {
        "id": "BFihvk1WNLGl",
        "colab": {
          "base_uri": "https://localhost:8080/"
        },
        "outputId": "b048d863-748f-438d-b3d8-5206c21a677b"
      },
      "outputs": [
        {
          "output_type": "stream",
          "name": "stdout",
          "text": [
            "Orden \t Valor anterior \t Valor Actual \t\t E aprox relativo%\n",
            "0\t0\t0.6065306597126334\t100.0\t0\t\n",
            "0\t0.6065306597126334\t0.6034980064140703\t0.5025125628140709\t1\t\n",
            "1\t0.6034980064140703\t0.6035055880473167\t0.001256265624808033\t2\t\n",
            "2\t0.6035055880473167\t0.6035055754112613\t2.093776087423912e-06\t3\t\n",
            "3\t0.6035055754112613\t0.6035055754270563\t2.617213923477453e-09\t4\t\n",
            "4\t0.6035055754270563\t0.6035055754270405\t2.6122653363263114e-12\t5\t\n",
            "5\t0.6035055754270405\t0.6035055754270405\t0.0\t6\t\n",
            "6\t0.6035055754270405\t0.6035055754270405\t0.0\t7\t\n",
            "7\t0.6035055754270405\t0.6035055754270405\t0.0\t8\t\n",
            "8\t0.6035055754270405\t0.6035055754270405\t0.0\t9\t\n",
            "9\t0.6035055754270405\t0.6035055754270405\t0.0\t10\t\n",
            "10\t0.6035055754270405\t0.6035055754270405\t0.0\t11\t\n",
            "11\t0.6035055754270405\t0.6035055754270405\t0.0\t12\t\n",
            "12\t0.6035055754270405\t0.6035055754270405\t0.0\t13\t\n",
            "13\t0.6035055754270405\t0.6035055754270405\t0.0\t14\t\n",
            "14\t0.6035055754270405\t0.6035055754270405\t0.0\t15\t\n"
          ]
        }
      ],
      "source": [
        "#xi = 0,5\n",
        "#xi+1 = 0,505\n",
        "#h = xi + 1 - xi = 0,005\n",
        "\n",
        "import math\n",
        "from math import e\n",
        "\n",
        "#Por cuestiones de la sintaxis y la nomenclatura, usaré a xi = x y a xi + 1 = xi1.\n",
        "\n",
        "es = (0.5 * 10**-8) * 100\n",
        "ea = 100\n",
        "xi = float(0.5)\n",
        "xi1 = float(0.505)\n",
        "h = xi1 - xi\n",
        "cont_i = 1\n",
        "potencia = 0\n",
        "value = e**(-xi)\n",
        "calculo = 0\n",
        "i=0\n",
        "\n",
        "print(\"Orden\",'\\t',\"Valor anterior\",'\\t',\"Valor Actual\",'\\t''\\t',\"E aprox relativo%\")\n",
        "\n",
        "while (i<15):\n",
        "\n",
        "  if cont_i%2 == 0:\n",
        "    aux = calculo\n",
        "    calculo = calculo - (((value)*(h**potencia))/math.factorial(potencia))\n",
        "    ea = abs(((calculo-aux)/calculo)*100)\n",
        "    list=[i,aux, calculo, ea, potencia]\n",
        "    for i in list:\n",
        "      print(i, end='\\t')\n",
        "    print()\n",
        "\n",
        "  else:\n",
        "\n",
        "    aux = calculo\n",
        "    calculo = calculo + (((value)*(h**potencia))/math.factorial(potencia))\n",
        "    ea = abs(((calculo-aux)/calculo)*100)\n",
        "    list=[i,aux, calculo, ea, potencia]\n",
        "    for i in list:\n",
        "      print(i, end='\\t')\n",
        "    print()\n",
        "\n",
        "\n",
        "  cont_i += 1\n",
        "  potencia += 1\n",
        "  v = calculo + ea"
      ]
    }
  ]
}