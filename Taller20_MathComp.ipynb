{
  "nbformat": 4,
  "nbformat_minor": 0,
  "metadata": {
    "colab": {
      "provenance": []
    },
    "kernelspec": {
      "name": "python3",
      "display_name": "Python 3"
    },
    "language_info": {
      "name": "python"
    }
  },
  "cells": [
    {
      "cell_type": "markdown",
      "source": [
        "**Cree un programa que ajuste a un polinomio de segundo grado los datos dados en la tabla. El programa debe calcular además el coeficiente de correlación (r):**\n",
        "\n",
        "x: {0, 1, 2, 3, 4, 5, 6}\n",
        "\n",
        "y: {3.2, 0.4, -1, -1.4, -1.1, 0.6, 3.1}"
      ],
      "metadata": {
        "id": "oNmbcjg3m4Ox"
      }
    },
    {
      "cell_type": "code",
      "execution_count": 19,
      "metadata": {
        "colab": {
          "base_uri": "https://localhost:8080/",
          "height": 1000
        },
        "id": "26h4NynJmkgx",
        "outputId": "d4974f0d-56ac-4c95-cc46-4bf1c7707bef"
      },
      "outputs": [
        {
          "output_type": "display_data",
          "data": {
            "text/plain": [
              "<Figure size 640x480 with 1 Axes>"
            ],
            "image/png": "[encoded data removed]"
          },
          "metadata": {}
        },
        {
          "output_type": "stream",
          "name": "stdout",
          "text": [
            "Matriz inicial 1\n",
            "7 21 91 | 3.8000\n",
            "21 91 441 | 11.4000\n",
            "91 441 2275 | 92.8000\n",
            "\n",
            "División 7\n",
            "1.0 3.0 13.0 | 0.5429\n",
            "21 91 441 | 11.4000\n",
            "91 441 2275 | 92.8000\n",
            "\n",
            "Reducción 7\n",
            "1.0 3.0 13.0 | 0.5429\n",
            "0.0 28.0 168.0 | 0.0000\n",
            "0.0 168.0 1092.0 | 43.4000\n",
            "\n",
            "División 28.0\n",
            "1.0 3.0 13.0 | 0.5429\n",
            "0.0 1.0 6.0 | 0.0000\n",
            "0.0 168.0 1092.0 | 43.4000\n",
            "\n",
            "Reducción 28.0\n",
            "1.0 0.0 -5.0 | 0.5429\n",
            "0.0 1.0 6.0 | 0.0000\n",
            "0.0 0.0 84.0 | 43.4000\n",
            "\n",
            "División 84.0\n",
            "1.0 0.0 -5.0 | 0.5429\n",
            "0.0 1.0 6.0 | 0.0000\n",
            "0.0 0.0 1.0 | 0.5167\n",
            "\n",
            "Reducción 84.0\n",
            "1.0 0.0 0.0 | 3.1262\n",
            "0.0 1.0 0.0 | -3.1000\n",
            "0.0 0.0 1.0 | 0.5167\n",
            "\n",
            "a0 = 3.1262,  a1 = -3.1000,  a2 = 0.5167\n",
            "y = 3.1262 + -3.1000x + 0.5167x^2\n",
            "\n",
            "La desviación estándar Sy = 1.935508\n",
            "El error estándar de estimación Sy/x = 0.133927\n",
            "El coeficiente de correlación r = 99.9 %\n"
          ]
        }
      ],
      "source": [
        "import numpy as np\n",
        "import matplotlib.pyplot as plt\n",
        "import copy\n",
        "\n",
        "def imprimir_Sistema(a, b, etiqueta,pivote):\n",
        "    n = len(b)\n",
        "    print(etiqueta,pivote)\n",
        "\n",
        "    for i in range(n):\n",
        "        for j in range(n):\n",
        "            print(a[i][j], end = \" \")\n",
        "        print(f\"| {b[i]:.4f}\")\n",
        "    print()\n",
        "\n",
        "def gauss_Jordan(ao, bo):\n",
        "    a = copy.deepcopy(ao)\n",
        "    c = copy.copy(bo)\n",
        "    n = len(b)\n",
        "    imprimir_Sistema(a, c, \"Matriz inicial\",1)\n",
        "\n",
        "    for i in range(n):\n",
        "        pivote = a[i][i]\n",
        "        for j in range(n):\n",
        "          a[i][j] /= pivote\n",
        "        c[i] /= pivote\n",
        "        imprimir_Sistema(a, c, \"División\",pivote)\n",
        "\n",
        "        for k in range(n):\n",
        "          if i != k:\n",
        "            valor_aux = -a[k][i]\n",
        "            for j in range(n):\n",
        "              a[k][j] += a[i][j] * valor_aux\n",
        "            c[k] += c[i] * valor_aux\n",
        "        imprimir_Sistema(a, c, \"Reducción\",pivote)\n",
        "\n",
        "    return c\n",
        "    return pivote\n",
        "\n",
        "\n",
        "x = np.array([0, 1, 2, 3, 4, 5, 6])\n",
        "y = np.array([3.2, 0.4, -1, -1.4, -1.1, 0.6, 3.1])\n",
        "\n",
        "plt.scatter(x, y, color='Green', label='Puntos en X y en Y')\n",
        "plt.xlabel('X')\n",
        "plt.ylabel('Y')\n",
        "plt.legend()\n",
        "plt.title('Gráfica de Datos')\n",
        "plt.grid(True, color='gray', linewidth=0.1)\n",
        "plt.show()\n",
        "\n",
        "n = 7\n",
        "x_Sum = np.sum(x)\n",
        "x_2Sum = np.sum(x**2)\n",
        "x_3Sum = np.sum(x**3)\n",
        "x_4Sum = np.sum(x**4)\n",
        "y_Sum = np.sum(y)\n",
        "xy_Sum = np.sum(x*y)\n",
        "x2y_Sum = np.sum(y*x**2)\n",
        "\n",
        "a = [[7, x_Sum, x_2Sum], [x_Sum, x_2Sum, x_3Sum], [x_2Sum, x_3Sum, x_4Sum]]\n",
        "b = [y_Sum, xy_Sum, x2y_Sum]\n",
        "\n",
        "c = gauss_Jordan(a,b)\n",
        "a0 = c[0]\n",
        "a1 = c[1]\n",
        "a2 = c[2]\n",
        "print(f\"a0 = {a0:.4f},  a1 = {a1:.4f},  a2 = {a2:.4f}\")\n",
        "print(f\"y = {a0:.4f} + {a1:.4f}x + {a2:.4f}x^2\"'\\n')\n",
        "\n",
        "y_Prom = np.mean(y)\n",
        "st = np.sum((y-y_Prom)**2)\n",
        "sy = np.sqrt(st/(6))\n",
        "sr = np.sum((y-a0-a1*x-a2*x**2)**2)\n",
        "e = np.sqrt(sr/3)\n",
        "c = np.sqrt((st-sr)/st)*100\n",
        "\n",
        "print(f\"La desviación estándar Sy = {sy:.6f}\")\n",
        "print(f\"El error estándar de estimación Sy/x = {e:6f}\")\n",
        "print(f\"El coeficiente de correlación r = {c:.1f} %\")"
      ]
    }
  ]
}