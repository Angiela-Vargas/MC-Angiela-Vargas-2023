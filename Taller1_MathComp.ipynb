{
  "nbformat": 4,
  "nbformat_minor": 0,
  "metadata": {
    "colab": {
      "provenance": []
    },
    "kernelspec": {
      "name": "python3",
      "display_name": "Python 3"
    },
    "language_info": {
      "name": "python"
    }
  },
  "cells": [
    {
      "cell_type": "code",
      "execution_count": 38,
      "metadata": {
        "colab": {
          "base_uri": "https://localhost:8080/"
        },
        "id": "Ik7f-WA4TOz_",
        "outputId": "b67c22f2-060d-474e-b6c3-68171d076ebe"
      },
      "outputs": [
        {
          "output_type": "stream",
          "name": "stdout",
          "text": [
            "Ingrese la cantidad de datos a registrar en el conjunto A 2\n",
            "Ingrese un dato 1\n",
            "Ingrese un dato 3\n",
            "\n",
            "Conjunto A: {1, 3}\n",
            "\n",
            "Ingrese la cantidad de datos a registrar en el conjunto B 5\n",
            "Ingrese un dato 1\n",
            "Ingrese un dato 2\n",
            "Ingrese un dato 3\n",
            "Ingrese un dato 4\n",
            "Ingrese un dato 5\n",
            "\n",
            "Conjunto B: {1, 2, 3, 4, 5}\n",
            "\n",
            "¿Qué operación desea realizar?\n",
            "\n",
            "1. Unión \n",
            "2. Intersección \n",
            "3. Diferencia \n",
            "4. Diferencia simétrica\n",
            "Tu opción es: 4\n",
            "\n",
            "La diferencia simétrica entre los conjuntos es:  {2, 4, 5} su cardinalidad es:  3\n"
          ]
        }
      ],
      "source": [
        "while True:\n",
        "  try:\n",
        "    cantidad_a = int(input(\"Ingrese la cantidad de datos a registrar en el conjunto A \"))\n",
        "    break\n",
        "  except ValueError:\n",
        "    print('\\n'\"Debe ingresar un valor numérico\")\n",
        "\n",
        "conjunto_a = set()\n",
        "\n",
        "for i in range (cantidad_a):\n",
        "  while True:\n",
        "    try:\n",
        "      elemento_a = int(input(\"Ingrese un dato \"))\n",
        "      conjunto_a.add(elemento_a)\n",
        "      break\n",
        "    except ValueError:\n",
        "      print('\\n'\"Debe ingresar un valor numérico\")\n",
        "\n",
        "\n",
        "print('\\n'\"Conjunto A:\",conjunto_a)\n",
        "\n",
        "\n",
        "while True:\n",
        "  try:\n",
        "    cantidad_b = int(input('\\n'\"Ingrese la cantidad de datos a registrar en el conjunto B \"))\n",
        "    break\n",
        "  except ValueError:\n",
        "    print('\\n'\"Debe ingresar un valor numérico\")\n",
        "\n",
        "conjunto_b = set()\n",
        "\n",
        "for i in range (cantidad_b):\n",
        "  while True:\n",
        "    try:\n",
        "      elemento_b = int(input(\"Ingrese un dato \"))\n",
        "      conjunto_b.add(elemento_b)\n",
        "      break\n",
        "    except ValueError:\n",
        "      print('\\n'\"Debe ingresar un valor numérico\")\n",
        "\n",
        "print('\\n'\"Conjunto B:\",conjunto_b)\n",
        "\n",
        "\n",
        "print('\\n'\"¿Qué operación desea realizar?\")\n",
        "print('\\n'\"1. Unión\",'\\n'\"2. Intersección\",'\\n'\"3. Diferencia\",'\\n'\"4. Diferencia simétrica\")\n",
        "\n",
        "while True:\n",
        "  try:\n",
        "    opcion = int(input('\\n'\"Tu opción es: \"))\n",
        "    if opcion >4 or opcion <1:\n",
        "      print('\\n'\"Debe ingresar una opción valida\")\n",
        "    else: break\n",
        "  except ValueError:\n",
        "    print('\\n'\"Debe ingresar un valor numérico\")\n",
        "\n",
        "if opcion == 1 :\n",
        "  union = conjunto_a.union(conjunto_b)\n",
        "  c= len(union)\n",
        "  print('\\n'\"La unión entre los conjuntos es: \", union, \" su cardinalida es: \", c)\n",
        "\n",
        "if opcion == 2 :\n",
        "  inter = conjunto_a.intersection(conjunto_b)\n",
        "  c= len(inter)\n",
        "  print('\\n'\"La intersección entre los conjuntos es: \", inter, \" su cardinalida es: \", c)\n",
        "\n",
        "if opcion == 3 :\n",
        "  dif = conjunto_a.difference(conjunto_b)\n",
        "  c = len(dif)\n",
        "  print('\\n'\"La diferencia entre los conjuntos es: \", dif, \" su cardinalida es: \", c)\n",
        "\n",
        "if opcion == 4 :\n",
        "  difSim = conjunto_a.symmetric_difference(conjunto_b)\n",
        "  c = len(difSim)\n",
        "  print('\\n'\"La diferencia simétrica entre los conjuntos es: \", difSim, \"su cardinalidad es: \", c)"
      ]
    }
  ]
}