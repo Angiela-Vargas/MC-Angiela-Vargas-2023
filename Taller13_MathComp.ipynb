{
  "nbformat": 4,
  "nbformat_minor": 0,
  "metadata": {
    "colab": {
      "provenance": []
    },
    "kernelspec": {
      "name": "python3",
      "display_name": "Python 3"
    },
    "language_info": {
      "name": "python"
    }
  },
  "cells": [
    {
      "cell_type": "markdown",
      "source": [
        "**Cree un programa que seleccione dos vectores de longitud n (dada por el usuario al principio) y halle su producto escalar.**"
      ],
      "metadata": {
        "id": "o_qPViso6RT9"
      }
    },
    {
      "cell_type": "code",
      "execution_count": null,
      "metadata": {
        "id": "Y-F2tqBt6M55",
        "colab": {
          "base_uri": "https://localhost:8080/"
        },
        "outputId": "58cd8c28-e2b2-46a5-c0f3-52e28674984e"
      },
      "outputs": [
        {
          "output_type": "stream",
          "name": "stdout",
          "text": [
            "Ingresa la longitud del vector: 3\n",
            "\n",
            "Ingresa el primer vector\n",
            "\n",
            "Ingresa el número: 2\n",
            "Ingresa el número: 6\n",
            "Ingresa el número: 3\n",
            "\n",
            "Ingresa el segundo vector\n",
            "\n",
            "Ingresa el número: 2\n",
            "Ingresa el número: 1\n",
            "Ingresa el número: 2\n",
            "\n",
            "El producto escalar entre los vectores es:  [4.0, 6.0, 6.0]\n"
          ]
        }
      ],
      "source": [
        "x = int(input(\"Ingresa la longitud del vector: \"))\n",
        "\n",
        "def ingresar():\n",
        "  vector = []\n",
        "  for i in range (x):\n",
        "    num = float(input(\"Ingresa el número: \"))\n",
        "    vector.append(num)\n",
        "  return vector\n",
        "\n",
        "print('\\n'\"Ingresa el primer vector\"'\\n')\n",
        "vector1= ingresar()\n",
        "print('\\n'\"Ingresa el segundo vector\"'\\n')\n",
        "vector2= ingresar()\n",
        "\n",
        "vector_escalar = []\n",
        "\n",
        "for i in range (x):\n",
        "  producto_escalar = vector1[i] * vector2[i]\n",
        "  vector_escalar.append(producto_escalar)\n",
        "\n",
        "print('\\n'\"El producto escalar entre los vectores es: \", vector_escalar)"
      ]
    },
    {
      "cell_type": "markdown",
      "source": [
        "**Cree un programa que solicite dos matrices A y B (las dimesiones de cada matriz deben estar indicadas por el usuario) y, de ser posible, reaclice las siguientes operaciones:**\n",
        "\n",
        "3A\n",
        "\n",
        "4B\n",
        "\n",
        "A + B\n",
        "\n",
        "B x A"
      ],
      "metadata": {
        "id": "913C5sLb6cke"
      }
    },
    {
      "cell_type": "code",
      "source": [
        "import numpy as np\n",
        "\n",
        "def solicitar_matriz(nombre_matriz):\n",
        "    filas = int(input(f\"Ingrese el número de filas para la matriz {nombre_matriz}: \"))\n",
        "    columnas = int(input(f\"Ingrese el número de columnas para la matriz {nombre_matriz}: \"))\n",
        "    print()\n",
        "\n",
        "    matriz = []\n",
        "    for i in range(filas):\n",
        "        fila = []\n",
        "        for j in range(columnas):\n",
        "            num = float(input(f\"Ingrese el valor para la fila {i + 1}, columna {j + 1} de la matriz {nombre_matriz}: \"))\n",
        "            fila.append(num)\n",
        "        matriz.append(fila)\n",
        "    print()\n",
        "\n",
        "    return np.array(matriz)\n",
        "\n",
        "def operaciones(matriz_a,matriz_b):\n",
        "\n",
        "  producto_escalarA = 3 * matriz_a\n",
        "  print(\"Matriz 3A\"'\\n', producto_escalarA)\n",
        "\n",
        "  producto_escalarB = 4 * matriz_b\n",
        "  print('\\n'\"Matriz 4B\"'\\n', producto_escalarB)\n",
        "\n",
        "  if matriz_a.shape == matriz_b.shape:\n",
        "    suma = matriz_a + matriz_b\n",
        "    print('\\n'\"Suma de matrices A + B\"'\\n', suma)\n",
        "  else:\n",
        "    print('\\n'\"Las matrices no tienen las mismas dimensiones\")\n",
        "\n",
        "  if matriz_b.shape[0] == matriz_a.shape[1]:\n",
        "    producto_matrices = np.dot(matriz_b, matriz_a)\n",
        "    print('\\n'\"Producto de matrices BA\"'\\n',producto_matrices)\n",
        "  else:\n",
        "    print('\\n'\"La cantidad de columnas de la matriz B debe ser igual a la cantidad de filas de la matriz A\")\n",
        "\n",
        "matriz_a = solicitar_matriz(\"A\")\n",
        "matriz_b = solicitar_matriz(\"B\")\n",
        "\n",
        "operaciones(matriz_a,matriz_b)"
      ],
      "metadata": {
        "colab": {
          "base_uri": "https://localhost:8080/"
        },
        "id": "V8YMmCBq73jo",
        "outputId": "8656d4de-0649-4e5f-b004-dad53318ffc7"
      },
      "execution_count": null,
      "outputs": [
        {
          "output_type": "stream",
          "name": "stdout",
          "text": [
            "Ingrese el número de filas para la matriz A: 2\n",
            "Ingrese el número de columnas para la matriz A: 1\n",
            "\n",
            "Ingrese el valor para la fila 1, columna 1 de la matriz A: 2\n",
            "Ingrese el valor para la fila 2, columna 1 de la matriz A: 3\n",
            "\n",
            "Ingrese el número de filas para la matriz B: 4\n",
            "Ingrese el número de columnas para la matriz B: 1\n",
            "\n",
            "Ingrese el valor para la fila 1, columna 1 de la matriz B: 4\n",
            "Ingrese el valor para la fila 2, columna 1 de la matriz B: 5\n",
            "Ingrese el valor para la fila 3, columna 1 de la matriz B: 6\n",
            "Ingrese el valor para la fila 4, columna 1 de la matriz B: 3\n",
            "\n",
            "Matriz 3A\n",
            " [[6.]\n",
            " [9.]]\n",
            "\n",
            "Matriz 4B\n",
            " [[16.]\n",
            " [20.]\n",
            " [24.]\n",
            " [12.]]\n",
            "\n",
            "Las matrices no tienen las mismas dimensiones\n",
            "\n",
            "La cantidad de columnas de la matriz B debe ser igual a la cantidad de filas de la matriz A\n"
          ]
        }
      ]
    },
    {
      "cell_type": "code",
      "source": [
        "import numpy as np\n",
        "\n",
        "def solicitar_matriz(nombre_matriz):\n",
        "    filas = int(input(f\"Ingrese el número de filas para la matriz {nombre_matriz}: \"))\n",
        "    columnas = int(input(f\"Ingrese el número de columnas para la matriz {nombre_matriz}: \"))\n",
        "    print()\n",
        "\n",
        "    matriz = []\n",
        "    for i in range(filas):\n",
        "        fila = []\n",
        "        for j in range(columnas):\n",
        "            num = float(input(f\"Ingrese el valor para la fila {i + 1}, columna {j + 1} de la matriz {nombre_matriz}: \"))\n",
        "            fila.append(num)\n",
        "        matriz.append(fila)\n",
        "    print()\n",
        "\n",
        "    return np.array(matriz)\n",
        "\n",
        "def operaciones(matriz_a,matriz_b):\n",
        "\n",
        "  producto_escalarA = 3 * matriz_a\n",
        "  print(\"Matriz 3A\"'\\n', producto_escalarA)\n",
        "\n",
        "  producto_escalarB = 4 * matriz_b\n",
        "  print('\\n'\"Matriz 4B\"'\\n', producto_escalarB)\n",
        "\n",
        "  if matriz_a.shape == matriz_b.shape:\n",
        "    suma = matriz_a + matriz_b\n",
        "    print('\\n'\"Suma de matrices A + B\"'\\n', suma)\n",
        "  else:\n",
        "    print('\\n'\"Las matrices no tienen las mismas dimensiones\")\n",
        "\n",
        "  if matriz_b.shape[0] == matriz_a.shape[1]:\n",
        "    producto_matrices = np.dot(matriz_b, matriz_a)\n",
        "    print('\\n'\"Producto de matrices BA\"'\\n',producto_matrices)\n",
        "  else:\n",
        "    print('\\n'\"La cantidad de columnas de la matriz B debe ser igual a la cantidad de filas de la matriz A\")\n",
        "\n",
        "matriz_a = solicitar_matriz(\"A\")\n",
        "matriz_b = solicitar_matriz(\"B\")\n",
        "\n",
        "operaciones(matriz_a,matriz_b)"
      ],
      "metadata": {
        "colab": {
          "base_uri": "https://localhost:8080/"
        },
        "id": "cJmovOzFCWU3",
        "outputId": "6a4efc3b-519f-4b09-d28f-30ca98ddafc4"
      },
      "execution_count": 17,
      "outputs": [
        {
          "output_type": "stream",
          "name": "stdout",
          "text": [
            "Ingrese el número de filas para la matriz A: 2\n",
            "Ingrese el número de columnas para la matriz A: 2\n",
            "\n",
            "Ingrese el valor para la fila 1, columna 1 de la matriz A: 1\n",
            "Ingrese el valor para la fila 1, columna 2 de la matriz A: 4\n",
            "Ingrese el valor para la fila 2, columna 1 de la matriz A: 2\n",
            "Ingrese el valor para la fila 2, columna 2 de la matriz A: 5\n",
            "\n",
            "Ingrese el número de filas para la matriz B: 2\n",
            "Ingrese el número de columnas para la matriz B: 2\n",
            "\n",
            "Ingrese el valor para la fila 1, columna 1 de la matriz B: 3\n",
            "Ingrese el valor para la fila 1, columna 2 de la matriz B: 6\n",
            "Ingrese el valor para la fila 2, columna 1 de la matriz B: 1\n",
            "Ingrese el valor para la fila 2, columna 2 de la matriz B: 0\n",
            "\n",
            "Matriz 3A\n",
            " [[ 3. 12.]\n",
            " [ 6. 15.]]\n",
            "\n",
            "Matriz 4B\n",
            " [[12. 24.]\n",
            " [ 4.  0.]]\n",
            "\n",
            "Suma de matrices A + B\n",
            " [[ 4. 10.]\n",
            " [ 3.  5.]]\n",
            "\n",
            "Producto de matrices BA\n",
            " [[15. 42.]\n",
            " [ 1.  4.]]\n"
          ]
        }
      ]
    }
  ]
}