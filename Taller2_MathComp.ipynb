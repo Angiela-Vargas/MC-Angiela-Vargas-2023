{
  "nbformat": 4,
  "nbformat_minor": 0,
  "metadata": {
    "colab": {
      "provenance": []
    },
    "kernelspec": {
      "name": "python3",
      "display_name": "Python 3"
    },
    "language_info": {
      "name": "python"
    }
  },
  "cells": [
    {
      "cell_type": "code",
      "execution_count": null,
      "metadata": {
        "colab": {
          "base_uri": "https://localhost:8080/"
        },
        "id": "MzW1sf0qXpd1",
        "outputId": "9e61757f-9c8e-4fcb-830d-0ae26702938b"
      },
      "outputs": [
        {
          "output_type": "stream",
          "name": "stdout",
          "text": [
            "A=  {1, 3, 5, 7, 9, 11, 13, 15, 17, 19, 21, 23, 25}\n",
            "B=  {6, 7, 8, 9, 10, 11, 12, 13, 14, 15, 16, 17, 18, 19}\n",
            "C=  {1, 4, 7, 8, 12, 16, 18, 21}\n",
            "D=  {2, 3, 37, 5, 7, 41, 11, 43, 13, 47, 17, 19, 23, 29, 31}\n",
            "Operación 1:  {3, 5, 9, 15, 23}\n",
            "Operación 2:  {2, 3, 5, 7, 8, 11, 12, 13, 16, 17, 18, 19, 23, 29, 31, 37, 41, 43, 47}\n",
            "Operación 3:  {1, 3, 4, 5, 21, 23, 25}\n",
            "Operación 4:  {1, 6, 7, 9, 10, 11, 13, 14, 15, 17, 19, 21}\n"
          ]
        }
      ],
      "source": [
        "from re import I\n",
        "A = set()\n",
        "\n",
        "for i in range (1, 26):\n",
        "  if i% 2 ==1:\n",
        "    A.add(i)\n",
        "print ('A= ',A)\n",
        "\n",
        "B = set ()\n",
        "\n",
        "for i in range (6, 20):\n",
        "  B.add(i)\n",
        "  ++i\n",
        "print ('B= ', B)\n",
        "\n",
        "C = {1, 4, 7, 8, 12, 16, 18, 21}\n",
        "print ('C= ', C)\n",
        "\n",
        "D = {2,3,5,7,11,13,17,19,23,29,31,37,41,43,47}\n",
        "print ('D= ',D)\n",
        "\n",
        "o1 = A.intersection(B.symmetric_difference(D))\n",
        "o2 = (B.intersection(C)).union(D)\n",
        "o3 = (A.union(C)).difference(B)\n",
        "o4 = (B.difference(C)).symmetric_difference(A.intersection(C))\n",
        "\n",
        "print (\"Operación 1: \", o1)\n",
        "print (\"Operación 2: \", o2)\n",
        "print (\"Operación 3: \", o3)\n",
        "print (\"Operación 4: \", o4)"
      ]
    }
  ]
}