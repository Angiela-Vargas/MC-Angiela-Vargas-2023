{
  "nbformat": 4,
  "nbformat_minor": 0,
  "metadata": {
    "colab": {
      "provenance": []
    },
    "kernelspec": {
      "name": "python3",
      "display_name": "Python 3"
    },
    "language_info": {
      "name": "python"
    }
  },
  "cells": [
    {
      "cell_type": "code",
      "execution_count": 1,
      "metadata": {
        "colab": {
          "base_uri": "https://localhost:8080/"
        },
        "id": "ZQ1AS2Pf7gMe",
        "outputId": "10a952f1-adf6-4089-c323-e0f3649cad35"
      },
      "outputs": [
        {
          "output_type": "stream",
          "name": "stdout",
          "text": [
            "Ingrese un ángulo para evaluar su coseno 60\n",
            "El ángulo en radianes es  1.0471975511965976 \n",
            "\n",
            "procedimiento\n",
            "\n",
            "0\t1.0\t100.0\t0\t1\t\n",
            "1.0\t0.45168864438392464\t56.86691170469267\t2\t2\t\n",
            "0.45168864438392464\t0.501796201500181\t9.985638983805318\t4\t3\t\n",
            "0.501796201500181\t0.4999645653289127\t52.256900834267626\t6\t4\t\n",
            "0.4999645653289127\t0.500000433432915\t0.007173614581898886\t8\t5\t\n",
            "0.500000433432915\t0.4999999963909432\t52.25351741707094\t10\t6\t\n",
            "0.4999999963909432\t0.5000000000217777\t7.261668932517912e-07\t12\t7\t\n",
            "0.5000000000217777\t0.49999999999990047\t52.25351707244089\t14\t8\t\n",
            "0.49999999999990047\t0.5000000000000004\t1.9995116673499053e-11\t16\t9\t\n",
            "\n",
            "Resultado\n",
            "\n",
            "El valor estimado es  0.5000000000199956 \n",
            "El error aproximado relativo porcentual es  1.9995116673499053e-11 \n",
            "El número de iteraciones realizadas fueron  10\n"
          ]
        }
      ],
      "source": [
        "import math\n",
        "\n",
        "es = (0.5 * 10**-8) * 100\n",
        "ea = 100\n",
        "coseno = 0\n",
        "cont_i = 1\n",
        "potencia = 0\n",
        "\n",
        "num = float(input(\"Ingrese un ángulo para evaluar su coseno \"))\n",
        "value = math.radians(num)\n",
        "print(\"El ángulo en radianes es \",value,'\\n''\\n'\"procedimiento\"'\\n')\n",
        "\n",
        "while ea > es:\n",
        "\n",
        "  if cont_i%2 == 0:\n",
        "\n",
        "    aux = coseno\n",
        "    coseno = coseno - ((value**(potencia))/math.factorial(potencia))\n",
        "    ea = abs(((value-coseno)/value)*100)\n",
        "    list=[aux, coseno, ea, potencia, cont_i]\n",
        "    for i in list:\n",
        "      print(i, end='\\t')\n",
        "    print()\n",
        "\n",
        "  else:\n",
        "\n",
        "    aux = coseno\n",
        "    coseno = coseno + ((value**(potencia))/math.factorial(potencia))\n",
        "    ea = abs(((coseno-aux)/coseno)*100)\n",
        "    list=[aux, coseno, ea, potencia, cont_i]\n",
        "    for i in list:\n",
        "      print(i, end='\\t')\n",
        "    print()\n",
        "\n",
        "\n",
        "  cont_i += 1\n",
        "  potencia += 2\n",
        "  v = coseno + ea\n",
        "\n",
        "print('\\n'\"Resultado\"'\\n''\\n'\"El valor estimado es \",v,'\\n'\"El error aproximado relativo porcentual es \",ea,'\\n'\"El número de iteraciones realizadas fueron \",cont_i)"
      ]
    }
  ]
}