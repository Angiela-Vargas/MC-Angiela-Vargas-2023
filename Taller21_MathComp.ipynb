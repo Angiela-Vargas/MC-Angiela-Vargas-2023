{
  "nbformat": 4,
  "nbformat_minor": 0,
  "metadata": {
    "colab": {
      "provenance": []
    },
    "kernelspec": {
      "name": "python3",
      "display_name": "Python 3"
    },
    "language_info": {
      "name": "python"
    }
  },
  "cells": [
    {
      "cell_type": "markdown",
      "source": [
        "**Cree un programa que ajuste a una función lineal en dos\n",
        "dimensiones los datos dados en la tabla. El programa debe\n",
        "calcular además el coeficiente de correlación (r):**\n",
        "\n",
        "x1: {1, 1, 2, 3, 1, 2, 3, 3}\n",
        "\n",
        "x2: {0, 1, 1, 2, 2, 3, 3, 1}\n",
        "\n",
        "y: {1.6, 3, 1.1, 1.3, 3.2, 3.3, 1.8, 0}"
      ],
      "metadata": {
        "id": "hNhA2bTp4sVo"
      }
    },
    {
      "cell_type": "code",
      "execution_count": 9,
      "metadata": {
        "id": "ZFxqGIJY4nzf",
        "colab": {
          "base_uri": "https://localhost:8080/"
        },
        "outputId": "81b27a57-d3c6-4cbb-9531-e336ba14b10f"
      },
      "outputs": [
        {
          "output_type": "stream",
          "name": "stdout",
          "text": [
            "Matriz inicial 1\n",
            "8 16 13 | 15.3000\n",
            "16 38 29 | 25.9000\n",
            "13 29 29 | 28.4000\n",
            "\n",
            "División 8\n",
            "1.0 2.0 1.625 | 1.9125\n",
            "16 38 29 | 25.9000\n",
            "13 29 29 | 28.4000\n",
            "\n",
            "Reducción 8\n",
            "1.0 2.0 1.625 | 1.9125\n",
            "0.0 6.0 3.0 | -4.7000\n",
            "0.0 3.0 7.875 | 3.5375\n",
            "\n",
            "División 6.0\n",
            "1.0 2.0 1.625 | 1.9125\n",
            "0.0 1.0 0.5 | -0.7833\n",
            "0.0 3.0 7.875 | 3.5375\n",
            "\n",
            "Reducción 6.0\n",
            "1.0 0.0 0.625 | 3.4792\n",
            "0.0 1.0 0.5 | -0.7833\n",
            "0.0 0.0 6.375 | 5.8875\n",
            "\n",
            "División 6.375\n",
            "1.0 0.0 0.625 | 3.4792\n",
            "0.0 1.0 0.5 | -0.7833\n",
            "0.0 0.0 1.0 | 0.9235\n",
            "\n",
            "Reducción 6.375\n",
            "1.0 0.0 0.0 | 2.9020\n",
            "0.0 1.0 0.0 | -1.2451\n",
            "0.0 0.0 1.0 | 0.9235\n",
            "\n",
            "Coeficientes: \n",
            "a0 = 2.9020,  a1 = -1.2451,  a2 = 0.9235\n",
            "\n",
            "Ecuación:\n",
            "y = 2.9020 + -1.2451x1 + 0.9235x^2\n",
            "\n",
            "La desviación estándar Sy = 1.169172\n",
            "El error estándar de estimación Sy/x = 0.299935\n",
            "El coeficiente de correlación r = 97.6 %\n"
          ]
        }
      ],
      "source": [
        "import numpy as np\n",
        "import matplotlib.pyplot as plt\n",
        "import copy\n",
        "\n",
        "def imprimir_Sistema(a, b, etiqueta,pivote):\n",
        "    n = len(b)\n",
        "    print(etiqueta,pivote)\n",
        "\n",
        "    for i in range(n):\n",
        "        for j in range(n):\n",
        "            print(a[i][j], end = \" \")\n",
        "        print(f\"| {b[i]:.4f}\")\n",
        "    print()\n",
        "\n",
        "def gauss_Jordan(ao, bo):\n",
        "    a = copy.deepcopy(ao)\n",
        "    c = copy.copy(bo)\n",
        "    n = len(b)\n",
        "    imprimir_Sistema(a, c, \"Matriz inicial\",1)\n",
        "\n",
        "    for i in range(n):\n",
        "        pivote = a[i][i]\n",
        "        for j in range(n):\n",
        "          a[i][j] /= pivote\n",
        "        c[i] /= pivote\n",
        "        imprimir_Sistema(a, c, \"División\",pivote)\n",
        "\n",
        "        for k in range(n):\n",
        "          if i != k:\n",
        "            valor_aux = -a[k][i]\n",
        "            for j in range(n):\n",
        "              a[k][j] += a[i][j] * valor_aux\n",
        "            c[k] += c[i] * valor_aux\n",
        "        imprimir_Sistema(a, c, \"Reducción\",pivote)\n",
        "\n",
        "    return c\n",
        "    return pivote\n",
        "\n",
        "x1 = np.array([1, 1, 2, 3, 1, 2, 3, 3])\n",
        "x2 = np.array([0, 1, 1, 2, 2, 3, 3, 1])\n",
        "y= np.array([1.6, 3, 1.1, 1.3, 3.2, 3.3, 1.8, 0])\n",
        "\n",
        "n= 8\n",
        "x1_Sum = np.sum(x1)\n",
        "x2_Sum = np.sum(x2)\n",
        "x1_2Sum = np.sum(x1**2)\n",
        "x1x2_Sum = np.sum(x1*x2)\n",
        "y_Sum = np.sum(y)\n",
        "x1y_Sum = np.sum(x1*y)\n",
        "x2_2Sum = np.sum(x2**2)\n",
        "x2y_Sum = np.sum(x2*y)\n",
        "\n",
        "a = [[n, x1_Sum, x2_Sum], [x1_Sum, x1_2Sum, x1x2_Sum], [x2_Sum, x1x2_Sum, x2_2Sum]]\n",
        "b= [y_Sum, x1y_Sum, x2y_Sum]\n",
        "\n",
        "c= gauss_Jordan(a, b)\n",
        "\n",
        "y_Prom = np.mean(y)\n",
        "st = np.sum((y-y_Prom)**2)\n",
        "sy = np.sqrt(st/(n-1))\n",
        "sr = np.sum((y-c[0]-c[1]*x1-c[2]*x2)**2)\n",
        "e = np.sqrt(sr/(n-(2+1)))\n",
        "cr = np.sqrt((st-sr)/st)*100\n",
        "\n",
        "print(f\"Coeficientes: \\na0 = {c[0]:.4f},  a1 = {c[1]:.4f},  a2 = {c[2]:.4f}\\n\")\n",
        "print(f\"Ecuación:\\ny = {c[0]:.4f} + {c[1]:.4f}x1 + {c[2]:.4f}x^2\"'\\n')\n",
        "print(f\"La desviación estándar Sy = {sy:.6f}\")\n",
        "print(f\"El error estándar de estimación Sy/x = {e:6f}\")\n",
        "print(f\"El coeficiente de correlación r = {cr:.1f} %\")"
      ]
    }
  ]
}